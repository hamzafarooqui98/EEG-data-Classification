{
 "cells": [
  {
   "cell_type": "code",
   "execution_count": 1,
   "id": "dd29d92c",
   "metadata": {
    "id": "0a1674e6"
   },
   "outputs": [],
   "source": [
    "import scipy.io as io\n",
    "import numpy as np\n",
    "import pandas as pd\n",
    "from sklearn.model_selection import train_test_split\n",
    "from sklearn.preprocessing import StandardScaler"
   ]
  },
  {
   "cell_type": "code",
   "execution_count": 2,
   "id": "f7e12713",
   "metadata": {
    "id": "05d124a3"
   },
   "outputs": [],
   "source": [
    "data = io.loadmat(\"WLDataCW.mat\")"
   ]
  },
  {
   "cell_type": "code",
   "execution_count": 3,
   "id": "c29d1836",
   "metadata": {
    "colab": {
     "base_uri": "https://localhost:8080/"
    },
    "id": "92d6ae56",
    "outputId": "69218bb6-8d9a-42cf-d1da-e62f1f9e14fd",
    "scrolled": true
   },
   "outputs": [
    {
     "data": {
      "text/plain": [
       "{'__header__': b'MATLAB 5.0 MAT-file, Platform: MACI64, Created on: Fri Jan 21 21:10:34 2022',\n",
       " '__version__': '1.0',\n",
       " '__globals__': [],\n",
       " 'data': array([[[ 3.64516091e+00, -1.22507811e+00,  8.41415691e+00, ...,\n",
       "          -1.16731644e+01,  2.65084229e+01,  4.00945067e-01],\n",
       "         [ 1.57700694e+00,  2.68786597e+00,  2.37991428e+00, ...,\n",
       "          -9.80385399e+00,  2.95700607e+01,  1.86778176e+00],\n",
       "         [-2.88467383e+00,  3.47892046e+00, -3.33852053e+00, ...,\n",
       "          -7.33824921e+00,  3.09278240e+01,  2.78261375e+00],\n",
       "         ...,\n",
       "         [ 6.32441854e+00,  7.38758564e+00, -5.30264425e+00, ...,\n",
       "           2.92871971e+01, -2.80428171e-01, -4.32558784e+01],\n",
       "         [-5.14494121e-01,  1.25400152e+01, -2.38987041e+00, ...,\n",
       "           2.50036125e+01, -1.41281223e+00, -3.64643059e+01],\n",
       "         [-3.36245584e+00,  1.25796471e+01,  1.27706754e+00, ...,\n",
       "           2.42137814e+01, -1.03876221e+00, -3.15475597e+01]],\n",
       " \n",
       "        [[ 1.40172338e+01,  6.67675018e+00,  1.04504976e+01, ...,\n",
       "          -7.23842859e+00,  2.92477169e+01, -6.11521196e+00],\n",
       "         [ 9.57320786e+00,  1.03044224e+01,  4.34053040e+00, ...,\n",
       "          -4.79710388e+00,  3.15305920e+01, -7.08963251e+00],\n",
       "         [-7.80168712e-01,  1.05655098e+01, -5.22511229e-02, ...,\n",
       "          -2.61832881e+00,  3.26535683e+01, -7.25153923e+00],\n",
       "         ...,\n",
       "         [ 7.90308475e+00,  1.22880735e+01,  4.98843575e+00, ...,\n",
       "           3.23293724e+01, -6.49976206e+00,  5.57017365e+01],\n",
       "         [ 4.05146933e+00,  1.64621811e+01,  5.66283464e+00, ...,\n",
       "           2.92005520e+01, -5.72257710e+00,  5.68582687e+01],\n",
       "         [ 3.59683323e+00,  1.55021639e+01,  8.41522408e+00, ...,\n",
       "           2.80388393e+01, -5.46729231e+00,  5.88923912e+01]],\n",
       " \n",
       "        [[ 2.18900127e+01,  1.46132317e+01,  7.26650333e+00, ...,\n",
       "          -2.18015790e+00,  3.62625275e+01,  4.53556681e+00],\n",
       "         [ 1.79181061e+01,  2.59742088e+01,  2.93151569e+00, ...,\n",
       "          -1.08215618e+00,  4.24087029e+01, -2.04414868e+00],\n",
       "         [ 9.73524213e-01,  3.16501255e+01, -7.96142817e+00, ...,\n",
       "           7.11734593e-01,  4.39589424e+01, -7.86615849e+00],\n",
       "         ...,\n",
       "         [ 2.07960854e+01, -2.76862550e+00,  6.37866735e+00, ...,\n",
       "           3.14184742e+01,  6.56031466e+00, -6.39570236e+01],\n",
       "         [ 1.19519014e+01, -1.44232476e+00, -7.00410557e+00, ...,\n",
       "           2.80267296e+01,  9.29963779e+00, -7.50392761e+01],\n",
       "         [ 8.32365990e+00,  3.99110651e+00, -1.17747383e+01, ...,\n",
       "           3.00837345e+01,  8.77367115e+00, -8.04662399e+01]],\n",
       " \n",
       "        ...,\n",
       " \n",
       "        [[ 3.19179082e+00,  2.18730068e+01, -9.48453522e+00, ...,\n",
       "           2.93938708e+00,  1.42035639e+00, -5.10062790e+00],\n",
       "         [ 4.25754976e+00,  1.89893475e+01, -1.01470041e+01, ...,\n",
       "           4.93766642e+00,  2.68201947e-01, -5.10375166e+00],\n",
       "         [ 3.12493145e-01,  1.36081877e+01, -1.12219095e+01, ...,\n",
       "           6.34550953e+00, -1.00526929e+00, -6.45500660e+00],\n",
       "         ...,\n",
       "         [ 8.27328205e+00, -7.36880684e+00,  2.93866038e+00, ...,\n",
       "           6.48516130e+00, -4.77836037e+00, -4.75293770e+01],\n",
       "         [ 1.39407911e+01, -8.01225471e+00,  2.62550507e-02, ...,\n",
       "           4.87607861e+00, -5.66431141e+00, -3.94008598e+01],\n",
       "         [ 1.98325291e+01, -8.79270172e+00, -3.37120295e+00, ...,\n",
       "           2.96472096e+00, -5.63682985e+00, -3.40537415e+01]],\n",
       " \n",
       "        [[ 5.08650923e+00,  1.47223282e+01, -9.92165947e+00, ...,\n",
       "           4.33888865e+00,  6.59874201e+00,  3.38434410e+00],\n",
       "         [ 8.49818420e+00,  1.73258953e+01, -1.11496401e+01, ...,\n",
       "           3.54945922e+00,  3.64424872e+00,  2.35422277e+00],\n",
       "         [ 8.97051334e+00,  1.77623272e+01, -1.04793301e+01, ...,\n",
       "           9.78565216e-01,  1.33861160e+00, -8.25736299e-02],\n",
       "         ...,\n",
       "         [ 8.48828220e+00, -7.41737795e+00, -1.53939848e+01, ...,\n",
       "           9.39552975e+00,  1.00561345e+00, -6.89867096e+01],\n",
       "         [ 1.02233324e+01, -3.46780992e+00, -1.56789570e+01, ...,\n",
       "           9.97337627e+00,  2.13038230e+00, -5.34692688e+01],\n",
       "         [ 1.21313772e+01, -5.91963625e+00, -8.12416935e+00, ...,\n",
       "           9.01394463e+00,  3.06355262e+00, -3.44550819e+01]],\n",
       " \n",
       "        [[ 4.99157715e+00,  1.63893948e+01, -1.62950802e+01, ...,\n",
       "           9.07277107e+00,  4.79275131e+00, -6.08551204e-01],\n",
       "         [ 6.85308933e-01,  9.26526260e+00, -1.30421753e+01, ...,\n",
       "           8.58812332e+00,  1.47445035e+00, -3.16302598e-01],\n",
       "         [-4.40166759e+00,  3.62088704e+00, -1.49656515e+01, ...,\n",
       "           6.27468967e+00, -1.49104130e+00, -1.07978916e+00],\n",
       "         ...,\n",
       "         [ 6.51083899e+00, -2.61192474e+01, -1.88146305e+01, ...,\n",
       "           7.95619249e+00, -6.87760234e-01, -5.04130745e+01],\n",
       "         [ 1.26092758e+01, -2.67547798e+01, -2.07304039e+01, ...,\n",
       "           7.90902233e+00, -1.11071837e+00, -6.71540298e+01],\n",
       "         [ 1.78546543e+01, -2.22823448e+01, -1.12280722e+01, ...,\n",
       "           7.06333494e+00, -1.09680700e+00, -6.61702118e+01]]],\n",
       "       dtype=float32),\n",
       " 'label': array([[0, 0, 0, 0, 0, 0, 0, 0, 0, 0, 0, 0, 0, 0, 0, 0, 0, 0, 0, 0, 0, 0,\n",
       "         0, 0, 0, 0, 0, 0, 0, 0, 0, 0, 0, 0, 0, 0, 0, 0, 0, 0, 0, 0, 0, 0,\n",
       "         0, 0, 0, 0, 0, 0, 0, 0, 0, 0, 0, 0, 0, 0, 0, 0, 0, 0, 0, 0, 0, 0,\n",
       "         0, 0, 0, 0, 0, 0, 0, 0, 0, 0, 0, 0, 0, 0, 0, 0, 0, 0, 0, 0, 0, 0,\n",
       "         0, 0, 0, 0, 0, 0, 0, 0, 0, 0, 0, 0, 0, 0, 0, 0, 0, 0, 0, 0, 0, 0,\n",
       "         0, 0, 0, 0, 0, 0, 0, 0, 0, 0, 0, 0, 0, 0, 0, 0, 0, 0, 0, 0, 0, 0,\n",
       "         0, 0, 0, 0, 0, 0, 0, 0, 0, 0, 0, 0, 0, 0, 0, 0, 0, 0, 0, 0, 0, 0,\n",
       "         0, 0, 0, 0, 0, 0, 0, 0, 0, 0, 0, 0, 0, 0, 0, 0, 0, 0, 0, 0, 0, 0,\n",
       "         0, 0, 0, 0, 1, 1, 1, 1, 1, 1, 1, 1, 1, 1, 1, 1, 1, 1, 1, 1, 1, 1,\n",
       "         1, 1, 1, 1, 1, 1, 1, 1, 1, 1, 1, 1, 1, 1, 1, 1, 1, 1, 1, 1, 1, 1,\n",
       "         1, 1, 1, 1, 1, 1, 1, 1, 1, 1, 1, 1, 1, 1, 1, 1, 1, 1, 1, 1, 1, 1,\n",
       "         1, 1, 1, 1, 1, 1, 1, 1, 1, 1, 1, 1, 1, 1, 1, 1, 1, 1, 1, 1, 1, 1,\n",
       "         1, 1, 1, 1, 1, 1, 1, 1, 1, 1, 1, 1, 1, 1, 1, 1, 1, 1, 1, 1, 1, 1,\n",
       "         1, 1, 1, 1, 1, 1, 1, 1, 1, 1, 1, 1, 1, 1, 1, 1, 1, 1, 1, 1, 1, 1,\n",
       "         1, 1, 1, 1, 1, 1, 1, 1, 1, 1, 1, 1, 1, 1, 1, 1, 1, 1, 1, 1, 1, 1,\n",
       "         1, 1, 1, 1, 1, 1, 1, 1, 1, 1, 1, 1, 1, 1, 1, 1, 1, 1, 1, 1, 1, 1,\n",
       "         1, 1, 1, 1, 1, 1, 1, 1]], dtype=uint8)}"
      ]
     },
     "execution_count": 3,
     "metadata": {},
     "output_type": "execute_result"
    }
   ],
   "source": [
    "data"
   ]
  },
  {
   "cell_type": "code",
   "execution_count": 4,
   "id": "82404815",
   "metadata": {
    "id": "6cc28416"
   },
   "outputs": [],
   "source": [
    "\n",
    "X = data['data']"
   ]
  },
  {
   "cell_type": "code",
   "execution_count": 5,
   "id": "9e2d9f9d",
   "metadata": {
    "colab": {
     "base_uri": "https://localhost:8080/"
    },
    "id": "852febe0",
    "outputId": "7bc3b5d0-d2d8-407f-c41c-5afbee214333",
    "scrolled": true
   },
   "outputs": [
    {
     "data": {
      "text/plain": [
       "array([[[ 3.64516091e+00, -1.22507811e+00,  8.41415691e+00, ...,\n",
       "         -1.16731644e+01,  2.65084229e+01,  4.00945067e-01],\n",
       "        [ 1.57700694e+00,  2.68786597e+00,  2.37991428e+00, ...,\n",
       "         -9.80385399e+00,  2.95700607e+01,  1.86778176e+00],\n",
       "        [-2.88467383e+00,  3.47892046e+00, -3.33852053e+00, ...,\n",
       "         -7.33824921e+00,  3.09278240e+01,  2.78261375e+00],\n",
       "        ...,\n",
       "        [ 6.32441854e+00,  7.38758564e+00, -5.30264425e+00, ...,\n",
       "          2.92871971e+01, -2.80428171e-01, -4.32558784e+01],\n",
       "        [-5.14494121e-01,  1.25400152e+01, -2.38987041e+00, ...,\n",
       "          2.50036125e+01, -1.41281223e+00, -3.64643059e+01],\n",
       "        [-3.36245584e+00,  1.25796471e+01,  1.27706754e+00, ...,\n",
       "          2.42137814e+01, -1.03876221e+00, -3.15475597e+01]],\n",
       "\n",
       "       [[ 1.40172338e+01,  6.67675018e+00,  1.04504976e+01, ...,\n",
       "         -7.23842859e+00,  2.92477169e+01, -6.11521196e+00],\n",
       "        [ 9.57320786e+00,  1.03044224e+01,  4.34053040e+00, ...,\n",
       "         -4.79710388e+00,  3.15305920e+01, -7.08963251e+00],\n",
       "        [-7.80168712e-01,  1.05655098e+01, -5.22511229e-02, ...,\n",
       "         -2.61832881e+00,  3.26535683e+01, -7.25153923e+00],\n",
       "        ...,\n",
       "        [ 7.90308475e+00,  1.22880735e+01,  4.98843575e+00, ...,\n",
       "          3.23293724e+01, -6.49976206e+00,  5.57017365e+01],\n",
       "        [ 4.05146933e+00,  1.64621811e+01,  5.66283464e+00, ...,\n",
       "          2.92005520e+01, -5.72257710e+00,  5.68582687e+01],\n",
       "        [ 3.59683323e+00,  1.55021639e+01,  8.41522408e+00, ...,\n",
       "          2.80388393e+01, -5.46729231e+00,  5.88923912e+01]],\n",
       "\n",
       "       [[ 2.18900127e+01,  1.46132317e+01,  7.26650333e+00, ...,\n",
       "         -2.18015790e+00,  3.62625275e+01,  4.53556681e+00],\n",
       "        [ 1.79181061e+01,  2.59742088e+01,  2.93151569e+00, ...,\n",
       "         -1.08215618e+00,  4.24087029e+01, -2.04414868e+00],\n",
       "        [ 9.73524213e-01,  3.16501255e+01, -7.96142817e+00, ...,\n",
       "          7.11734593e-01,  4.39589424e+01, -7.86615849e+00],\n",
       "        ...,\n",
       "        [ 2.07960854e+01, -2.76862550e+00,  6.37866735e+00, ...,\n",
       "          3.14184742e+01,  6.56031466e+00, -6.39570236e+01],\n",
       "        [ 1.19519014e+01, -1.44232476e+00, -7.00410557e+00, ...,\n",
       "          2.80267296e+01,  9.29963779e+00, -7.50392761e+01],\n",
       "        [ 8.32365990e+00,  3.99110651e+00, -1.17747383e+01, ...,\n",
       "          3.00837345e+01,  8.77367115e+00, -8.04662399e+01]],\n",
       "\n",
       "       ...,\n",
       "\n",
       "       [[ 3.19179082e+00,  2.18730068e+01, -9.48453522e+00, ...,\n",
       "          2.93938708e+00,  1.42035639e+00, -5.10062790e+00],\n",
       "        [ 4.25754976e+00,  1.89893475e+01, -1.01470041e+01, ...,\n",
       "          4.93766642e+00,  2.68201947e-01, -5.10375166e+00],\n",
       "        [ 3.12493145e-01,  1.36081877e+01, -1.12219095e+01, ...,\n",
       "          6.34550953e+00, -1.00526929e+00, -6.45500660e+00],\n",
       "        ...,\n",
       "        [ 8.27328205e+00, -7.36880684e+00,  2.93866038e+00, ...,\n",
       "          6.48516130e+00, -4.77836037e+00, -4.75293770e+01],\n",
       "        [ 1.39407911e+01, -8.01225471e+00,  2.62550507e-02, ...,\n",
       "          4.87607861e+00, -5.66431141e+00, -3.94008598e+01],\n",
       "        [ 1.98325291e+01, -8.79270172e+00, -3.37120295e+00, ...,\n",
       "          2.96472096e+00, -5.63682985e+00, -3.40537415e+01]],\n",
       "\n",
       "       [[ 5.08650923e+00,  1.47223282e+01, -9.92165947e+00, ...,\n",
       "          4.33888865e+00,  6.59874201e+00,  3.38434410e+00],\n",
       "        [ 8.49818420e+00,  1.73258953e+01, -1.11496401e+01, ...,\n",
       "          3.54945922e+00,  3.64424872e+00,  2.35422277e+00],\n",
       "        [ 8.97051334e+00,  1.77623272e+01, -1.04793301e+01, ...,\n",
       "          9.78565216e-01,  1.33861160e+00, -8.25736299e-02],\n",
       "        ...,\n",
       "        [ 8.48828220e+00, -7.41737795e+00, -1.53939848e+01, ...,\n",
       "          9.39552975e+00,  1.00561345e+00, -6.89867096e+01],\n",
       "        [ 1.02233324e+01, -3.46780992e+00, -1.56789570e+01, ...,\n",
       "          9.97337627e+00,  2.13038230e+00, -5.34692688e+01],\n",
       "        [ 1.21313772e+01, -5.91963625e+00, -8.12416935e+00, ...,\n",
       "          9.01394463e+00,  3.06355262e+00, -3.44550819e+01]],\n",
       "\n",
       "       [[ 4.99157715e+00,  1.63893948e+01, -1.62950802e+01, ...,\n",
       "          9.07277107e+00,  4.79275131e+00, -6.08551204e-01],\n",
       "        [ 6.85308933e-01,  9.26526260e+00, -1.30421753e+01, ...,\n",
       "          8.58812332e+00,  1.47445035e+00, -3.16302598e-01],\n",
       "        [-4.40166759e+00,  3.62088704e+00, -1.49656515e+01, ...,\n",
       "          6.27468967e+00, -1.49104130e+00, -1.07978916e+00],\n",
       "        ...,\n",
       "        [ 6.51083899e+00, -2.61192474e+01, -1.88146305e+01, ...,\n",
       "          7.95619249e+00, -6.87760234e-01, -5.04130745e+01],\n",
       "        [ 1.26092758e+01, -2.67547798e+01, -2.07304039e+01, ...,\n",
       "          7.90902233e+00, -1.11071837e+00, -6.71540298e+01],\n",
       "        [ 1.78546543e+01, -2.22823448e+01, -1.12280722e+01, ...,\n",
       "          7.06333494e+00, -1.09680700e+00, -6.61702118e+01]]],\n",
       "      dtype=float32)"
      ]
     },
     "execution_count": 5,
     "metadata": {},
     "output_type": "execute_result"
    }
   ],
   "source": [
    "X"
   ]
  },
  {
   "cell_type": "code",
   "execution_count": 6,
   "id": "ac148dc6",
   "metadata": {
    "id": "fb94506a"
   },
   "outputs": [],
   "source": [
    "X = X.reshape((X.shape[0]*X.shape[1]), X.shape[2]).T\n"
   ]
  },
  {
   "cell_type": "code",
   "execution_count": 7,
   "id": "39b3e739",
   "metadata": {
    "colab": {
     "base_uri": "https://localhost:8080/"
    },
    "id": "98b52f75",
    "outputId": "8cbbb6c4-4ffc-4288-dd2e-d2e29bf47af5"
   },
   "outputs": [
    {
     "data": {
      "text/plain": [
       "(360, 31744)"
      ]
     },
     "execution_count": 7,
     "metadata": {},
     "output_type": "execute_result"
    }
   ],
   "source": [
    "X.shape"
   ]
  },
  {
   "cell_type": "code",
   "execution_count": 8,
   "id": "dfcf3fa1",
   "metadata": {
    "colab": {
     "base_uri": "https://localhost:8080/",
     "height": 424
    },
    "id": "634322a2",
    "outputId": "42b1f02a-47c0-410c-e34a-abc037f3bddd"
   },
   "outputs": [
    {
     "data": {
      "text/plain": [
       "array([[  3.645161  ,   1.5770069 ,  -2.8846738 , ...,   6.510839  ,\n",
       "         12.609276  ,  17.854654  ],\n",
       "       [ -1.2250781 ,   2.687866  ,   3.4789205 , ..., -26.119247  ,\n",
       "        -26.75478   , -22.282345  ],\n",
       "       [  8.414157  ,   2.3799143 ,  -3.3385205 , ..., -18.81463   ,\n",
       "        -20.730404  , -11.228072  ],\n",
       "       ...,\n",
       "       [-11.673164  ,  -9.803854  ,  -7.338249  , ...,   7.9561925 ,\n",
       "          7.9090223 ,   7.063335  ],\n",
       "       [ 26.508423  ,  29.57006   ,  30.927824  , ...,  -0.68776023,\n",
       "         -1.1107184 ,  -1.096807  ],\n",
       "       [  0.40094507,   1.8677818 ,   2.7826138 , ..., -50.413074  ,\n",
       "        -67.15403   , -66.17021   ]], dtype=float32)"
      ]
     },
     "execution_count": 8,
     "metadata": {},
     "output_type": "execute_result"
    }
   ],
   "source": [
    "X"
   ]
  },
  {
   "cell_type": "code",
   "execution_count": 9,
   "id": "32d91384",
   "metadata": {
    "id": "f72cc173"
   },
   "outputs": [],
   "source": [
    "y = data['label']"
   ]
  },
  {
   "cell_type": "code",
   "execution_count": 10,
   "id": "b0e6a733",
   "metadata": {
    "colab": {
     "base_uri": "https://localhost:8080/"
    },
    "id": "fc440d9b",
    "outputId": "0a860313-1be5-453b-ad71-ca806f14740c"
   },
   "outputs": [
    {
     "data": {
      "text/plain": [
       "(1, 360)"
      ]
     },
     "execution_count": 10,
     "metadata": {},
     "output_type": "execute_result"
    }
   ],
   "source": [
    "y.shape"
   ]
  },
  {
   "cell_type": "code",
   "execution_count": 11,
   "id": "002307e1",
   "metadata": {
    "id": "6b38fe0b"
   },
   "outputs": [],
   "source": [
    "y= y.T"
   ]
  },
  {
   "cell_type": "code",
   "execution_count": 12,
   "id": "e44cddea",
   "metadata": {
    "colab": {
     "base_uri": "https://localhost:8080/"
    },
    "id": "882f17a9",
    "outputId": "cfb266c5-3703-4d23-d0db-64dab355dcb9"
   },
   "outputs": [
    {
     "data": {
      "text/plain": [
       "(360, 1)"
      ]
     },
     "execution_count": 12,
     "metadata": {},
     "output_type": "execute_result"
    }
   ],
   "source": [
    "y.shape"
   ]
  },
  {
   "cell_type": "code",
   "execution_count": 13,
   "id": "31da5d06",
   "metadata": {
    "id": "66d60ab0"
   },
   "outputs": [],
   "source": [
    "y = pd.DataFrame(y)"
   ]
  },
  {
   "cell_type": "code",
   "execution_count": 14,
   "id": "fd717f71",
   "metadata": {
    "colab": {
     "base_uri": "https://localhost:8080/",
     "height": 424
    },
    "id": "44313754",
    "outputId": "74ccb28c-0f83-4e23-ca5c-cb393a4554cc"
   },
   "outputs": [
    {
     "data": {
      "text/html": [
       "<div>\n",
       "<style scoped>\n",
       "    .dataframe tbody tr th:only-of-type {\n",
       "        vertical-align: middle;\n",
       "    }\n",
       "\n",
       "    .dataframe tbody tr th {\n",
       "        vertical-align: top;\n",
       "    }\n",
       "\n",
       "    .dataframe thead th {\n",
       "        text-align: right;\n",
       "    }\n",
       "</style>\n",
       "<table border=\"1\" class=\"dataframe\">\n",
       "  <thead>\n",
       "    <tr style=\"text-align: right;\">\n",
       "      <th></th>\n",
       "      <th>0</th>\n",
       "    </tr>\n",
       "  </thead>\n",
       "  <tbody>\n",
       "    <tr>\n",
       "      <th>0</th>\n",
       "      <td>0</td>\n",
       "    </tr>\n",
       "    <tr>\n",
       "      <th>1</th>\n",
       "      <td>0</td>\n",
       "    </tr>\n",
       "    <tr>\n",
       "      <th>2</th>\n",
       "      <td>0</td>\n",
       "    </tr>\n",
       "    <tr>\n",
       "      <th>3</th>\n",
       "      <td>0</td>\n",
       "    </tr>\n",
       "    <tr>\n",
       "      <th>4</th>\n",
       "      <td>0</td>\n",
       "    </tr>\n",
       "    <tr>\n",
       "      <th>...</th>\n",
       "      <td>...</td>\n",
       "    </tr>\n",
       "    <tr>\n",
       "      <th>355</th>\n",
       "      <td>1</td>\n",
       "    </tr>\n",
       "    <tr>\n",
       "      <th>356</th>\n",
       "      <td>1</td>\n",
       "    </tr>\n",
       "    <tr>\n",
       "      <th>357</th>\n",
       "      <td>1</td>\n",
       "    </tr>\n",
       "    <tr>\n",
       "      <th>358</th>\n",
       "      <td>1</td>\n",
       "    </tr>\n",
       "    <tr>\n",
       "      <th>359</th>\n",
       "      <td>1</td>\n",
       "    </tr>\n",
       "  </tbody>\n",
       "</table>\n",
       "<p>360 rows × 1 columns</p>\n",
       "</div>"
      ],
      "text/plain": [
       "     0\n",
       "0    0\n",
       "1    0\n",
       "2    0\n",
       "3    0\n",
       "4    0\n",
       "..  ..\n",
       "355  1\n",
       "356  1\n",
       "357  1\n",
       "358  1\n",
       "359  1\n",
       "\n",
       "[360 rows x 1 columns]"
      ]
     },
     "execution_count": 14,
     "metadata": {},
     "output_type": "execute_result"
    }
   ],
   "source": [
    "y"
   ]
  },
  {
   "cell_type": "code",
   "execution_count": 15,
   "id": "148c5d6b",
   "metadata": {
    "colab": {
     "base_uri": "https://localhost:8080/"
    },
    "id": "cee056a4",
    "outputId": "ed7888f7-157a-43a8-861a-5555d5ba8b76"
   },
   "outputs": [
    {
     "data": {
      "text/plain": [
       "360"
      ]
     },
     "execution_count": 15,
     "metadata": {},
     "output_type": "execute_result"
    }
   ],
   "source": [
    "len(X)"
   ]
  },
  {
   "cell_type": "code",
   "execution_count": 16,
   "id": "3b12f968",
   "metadata": {
    "colab": {
     "base_uri": "https://localhost:8080/"
    },
    "id": "d373a9c9",
    "outputId": "0a9a518d-5292-4055-e5e3-b821b20bca8c"
   },
   "outputs": [
    {
     "data": {
      "text/plain": [
       "360"
      ]
     },
     "execution_count": 16,
     "metadata": {},
     "output_type": "execute_result"
    }
   ],
   "source": [
    "len(y)"
   ]
  },
  {
   "cell_type": "code",
   "execution_count": 17,
   "id": "4d5f2e61",
   "metadata": {
    "id": "7868bb1d"
   },
   "outputs": [],
   "source": [
    "# def standardize(X):\n",
    "#     X = np.transpose(X)\n",
    "#     for i in range(X.shape[1]):\n",
    "#         X = (X - X.mean(axis=0))/X.std(axis=0)\n",
    "#     return np.transpose(X)"
   ]
  },
  {
   "cell_type": "code",
   "execution_count": 18,
   "id": "0e0272ee",
   "metadata": {},
   "outputs": [],
   "source": [
    "scaler=StandardScaler()\n",
    "X_transform = scaler.fit_transform(X)"
   ]
  },
  {
   "cell_type": "code",
   "execution_count": 19,
   "id": "ea3c45b3",
   "metadata": {
    "id": "3a5a84cd"
   },
   "outputs": [],
   "source": [
    " X_train, X_test, y_train, y_test = train_test_split(X_transform, y, test_size=0.2, random_state=42)"
   ]
  },
  {
   "cell_type": "code",
   "execution_count": 20,
   "id": "264b01a9",
   "metadata": {
    "colab": {
     "base_uri": "https://localhost:8080/"
    },
    "id": "11c4b88f",
    "outputId": "8e44d3ea-5390-4148-ad32-7e5d61d26049"
   },
   "outputs": [
    {
     "data": {
      "text/plain": [
       "(288, 31744)"
      ]
     },
     "execution_count": 20,
     "metadata": {},
     "output_type": "execute_result"
    }
   ],
   "source": [
    "X_train.shape"
   ]
  },
  {
   "cell_type": "code",
   "execution_count": 21,
   "id": "16b3a0cf",
   "metadata": {
    "id": "04468185"
   },
   "outputs": [],
   "source": [
    "def initialize(X):\n",
    "    w = np.zeros((np.shape(X_train)[1],1))\n",
    "    #b = np.c_[np.zeros((np.shape(X_train)[0])),X_train]\n",
    "    return w,0"
   ]
  },
  {
   "cell_type": "code",
   "execution_count": 22,
   "id": "41ff55d2",
   "metadata": {
    "id": "2ff57e18"
   },
   "outputs": [],
   "source": [
    "w,b = initialize(X)"
   ]
  },
  {
   "cell_type": "code",
   "execution_count": 23,
   "id": "4c6ea151",
   "metadata": {
    "colab": {
     "base_uri": "https://localhost:8080/"
    },
    "id": "a06de35a",
    "outputId": "599f8807-aa89-41d8-fa39-385e8d9d8386"
   },
   "outputs": [
    {
     "data": {
      "text/plain": [
       "array([[0.],\n",
       "       [0.],\n",
       "       [0.],\n",
       "       ...,\n",
       "       [0.],\n",
       "       [0.],\n",
       "       [0.]])"
      ]
     },
     "execution_count": 23,
     "metadata": {},
     "output_type": "execute_result"
    }
   ],
   "source": [
    "w"
   ]
  },
  {
   "cell_type": "code",
   "execution_count": 24,
   "id": "69bef407",
   "metadata": {
    "colab": {
     "base_uri": "https://localhost:8080/"
    },
    "id": "d63f89c8",
    "outputId": "56176570-6bd7-4e6d-dff4-1630c6b927b5"
   },
   "outputs": [
    {
     "data": {
      "text/plain": [
       "(31744, 1)"
      ]
     },
     "execution_count": 24,
     "metadata": {},
     "output_type": "execute_result"
    }
   ],
   "source": [
    "w.shape"
   ]
  },
  {
   "cell_type": "code",
   "execution_count": 25,
   "id": "d5578463",
   "metadata": {
    "colab": {
     "base_uri": "https://localhost:8080/"
    },
    "id": "ddb11538",
    "outputId": "7e3eede0-b3a4-4904-e82b-3f6b10545c74"
   },
   "outputs": [
    {
     "data": {
      "text/plain": [
       "0"
      ]
     },
     "execution_count": 25,
     "metadata": {},
     "output_type": "execute_result"
    }
   ],
   "source": [
    "b"
   ]
  },
  {
   "cell_type": "code",
   "execution_count": 26,
   "id": "9a2e0d44",
   "metadata": {
    "id": "4106a554"
   },
   "outputs": [],
   "source": [
    "def sigmoid(x):\n",
    "    return 1/(1+np.exp(-x))"
   ]
  },
  {
   "cell_type": "code",
   "execution_count": 27,
   "id": "29e2149a",
   "metadata": {
    "id": "d7581854"
   },
   "outputs": [],
   "source": [
    " def cross_entropy(y,y_hat,k):\n",
    "        loss=(-np.sum(y*np.log(y_hat)+(1-y)*np.log(1-y_hat)))/k\n",
    "        return loss"
   ]
  },
  {
   "cell_type": "code",
   "execution_count": 28,
   "id": "0d0a5b81",
   "metadata": {
    "id": "ee6e6672"
   },
   "outputs": [],
   "source": [
    "    def partial_der_weight_bias(k, x, y_hat, y):   \n",
    "        dL_dW = np.dot(x.T, (y_hat -y)) * 0.01 / k    \n",
    "        dL_db = (y_hat - y )* 0.01 / k\n",
    "        return  dL_dW,dL_db "
   ]
  },
  {
   "cell_type": "code",
   "execution_count": 29,
   "id": "e0ea3a65",
   "metadata": {},
   "outputs": [],
   "source": [
    "def predict(X):\n",
    "\n",
    "    preds = sigmoid(np.dot(X, w) + b)\n",
    "    pred_class = []\n",
    "    pred_class = [1 if i > 0.5 else 0 for i in preds]\n",
    "    \n",
    "    return np.array(pred_class)"
   ]
  },
  {
   "cell_type": "code",
   "execution_count": 30,
   "id": "b3c864c5",
   "metadata": {
    "id": "78ec36d3"
   },
   "outputs": [],
   "source": [
    "  \n",
    "def accuracy(y, y_hat):\n",
    "    accuracy = np.sum(y == y_hat) / len(y)\n",
    "    return accuracy"
   ]
  },
  {
   "cell_type": "code",
   "execution_count": 31,
   "id": "39c59e9b",
   "metadata": {
    "id": "a5cd00d4"
   },
   "outputs": [],
   "source": [
    "def logisticModel(X, y, learning_rate):\n",
    "    \n",
    "    k = X.shape[0]\n",
    "    weights,bias = initialize(X)\n",
    "    y_hat = sigmoid((np.dot(np.transpose(w), X) + b))\n",
    "    dw, db = partial_der_weight_bias(k,X_train,y_hat.T,y_train)\n",
    "    weights = w - dw.T\n",
    "    bias = b - db.T\n",
    "    loss = cross_entropy(y,y_hat.T,k)\n",
    "    \n",
    "    return w,b,loss\n",
    "    \n",
    "    \n",
    "    \n",
    "    \n",
    "    \n"
   ]
  },
  {
   "cell_type": "code",
   "execution_count": 32,
   "id": "99e1c671",
   "metadata": {
    "colab": {
     "base_uri": "https://localhost:8080/"
    },
    "id": "ffb40c0b",
    "outputId": "2836ba0b-e196-44f0-c3a0-0777f0167511"
   },
   "outputs": [
    {
     "data": {
      "text/plain": [
       "(31744, 1)"
      ]
     },
     "execution_count": 32,
     "metadata": {},
     "output_type": "execute_result"
    }
   ],
   "source": [
    "w.shape"
   ]
  },
  {
   "cell_type": "code",
   "execution_count": 33,
   "id": "c8d0f1c1",
   "metadata": {
    "id": "8b024bc4"
   },
   "outputs": [],
   "source": [
    "weights,bias,loss = logisticModel(X_train.T,y_train,0.01)"
   ]
  },
  {
   "cell_type": "code",
   "execution_count": 34,
   "id": "ac561a89",
   "metadata": {},
   "outputs": [
    {
     "data": {
      "text/plain": [
       "0    0.006289\n",
       "dtype: float64"
      ]
     },
     "execution_count": 34,
     "metadata": {},
     "output_type": "execute_result"
    }
   ],
   "source": [
    "loss"
   ]
  },
  {
   "cell_type": "code",
   "execution_count": 35,
   "id": "eaed360d",
   "metadata": {},
   "outputs": [],
   "source": [
    "y_pred= predict(X_test)"
   ]
  },
  {
   "cell_type": "code",
   "execution_count": 36,
   "id": "1fec7f62",
   "metadata": {},
   "outputs": [],
   "source": [
    " y_pred = y_pred.reshape(y_pred.shape[0], 1)"
   ]
  },
  {
   "cell_type": "code",
   "execution_count": 37,
   "id": "b66a3527",
   "metadata": {},
   "outputs": [],
   "source": [
    "acc = accuracy(y_test,y_pred)"
   ]
  },
  {
   "cell_type": "code",
   "execution_count": 38,
   "id": "08167c50",
   "metadata": {},
   "outputs": [
    {
     "name": "stdout",
     "output_type": "stream",
     "text": [
      "Accuracy:  0.5138888888888888\n"
     ]
    }
   ],
   "source": [
    " print('Accuracy: ', acc[0])"
   ]
  },
  {
   "cell_type": "code",
   "execution_count": 39,
   "id": "f00b2210",
   "metadata": {},
   "outputs": [],
   "source": [
    "from sklearn.metrics import classification_report"
   ]
  },
  {
   "cell_type": "code",
   "execution_count": 40,
   "id": "da977f3f",
   "metadata": {},
   "outputs": [
    {
     "name": "stdout",
     "output_type": "stream",
     "text": [
      "              precision    recall  f1-score   support\n",
      "\n",
      "           0       0.51      1.00      0.68        37\n",
      "           1       0.00      0.00      0.00        35\n",
      "\n",
      "    accuracy                           0.51        72\n",
      "   macro avg       0.26      0.50      0.34        72\n",
      "weighted avg       0.26      0.51      0.35        72\n",
      "\n"
     ]
    },
    {
     "name": "stderr",
     "output_type": "stream",
     "text": [
      "C:\\Users\\Dell\\miniconda3\\envs\\ce802\\lib\\site-packages\\sklearn\\metrics\\_classification.py:1221: UndefinedMetricWarning: Precision and F-score are ill-defined and being set to 0.0 in labels with no predicted samples. Use `zero_division` parameter to control this behavior.\n",
      "  _warn_prf(average, modifier, msg_start, len(result))\n"
     ]
    }
   ],
   "source": [
    "print(classification_report(y_test,y_pred))"
   ]
  },
  {
   "cell_type": "code",
   "execution_count": null,
   "id": "2fd88c75",
   "metadata": {},
   "outputs": [],
   "source": []
  }
 ],
 "metadata": {
  "colab": {
   "collapsed_sections": [],
   "name": "Logistic Model.ipynb",
   "provenance": []
  },
  "kernelspec": {
   "display_name": "Python 3 (ipykernel)",
   "language": "python",
   "name": "python3"
  },
  "language_info": {
   "codemirror_mode": {
    "name": "ipython",
    "version": 3
   },
   "file_extension": ".py",
   "mimetype": "text/x-python",
   "name": "python",
   "nbconvert_exporter": "python",
   "pygments_lexer": "ipython3",
   "version": "3.7.11"
  }
 },
 "nbformat": 4,
 "nbformat_minor": 5
}
